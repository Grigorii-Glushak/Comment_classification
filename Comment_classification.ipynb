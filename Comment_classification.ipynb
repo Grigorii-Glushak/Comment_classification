{
 "cells": [
  {
   "cell_type": "markdown",
   "metadata": {},
   "source": [
    "# Классификация комментариев"
   ]
  },
  {
   "cell_type": "markdown",
   "metadata": {},
   "source": [
    "***Описание проекта:*** "
   ]
  },
  {
   "cell_type": "markdown",
   "metadata": {},
   "source": [
    "Интернет-магазин «Викишоп» запускает новый сервис. Теперь пользователи могут редактировать и дополнять описания товаров, как в вики-сообществах. То есть клиенты предлагают свои правки и комментируют изменения других. Магазину нужен инструмент, который будет искать токсичные комментарии и отправлять их на модерацию. \n",
    "\n",
    "Обучите модель классифицировать комментарии на позитивные и негативные. В вашем распоряжении набор данных с разметкой о токсичности правок.\n",
    "\n",
    "Постройте модель со значением метрики качества *F1* не меньше 0.75. "
   ]
  },
  {
   "cell_type": "markdown",
   "metadata": {},
   "source": [
    "**Описание данных**\n",
    "\n",
    "- `text` — текст комментария\n",
    "- `toxic` — целевой признак"
   ]
  },
  {
   "cell_type": "markdown",
   "metadata": {},
   "source": [
    "***План работы над проектом:***"
   ]
  },
  {
   "cell_type": "markdown",
   "metadata": {},
   "source": [
    "1. Подготовка данных;\n",
    "2. Обучение моделей; \n",
    "3. Общий вывод."
   ]
  },
  {
   "cell_type": "markdown",
   "metadata": {},
   "source": [
    "## Подготовка данных"
   ]
  },
  {
   "cell_type": "code",
   "execution_count": 1,
   "metadata": {
    "scrolled": true
   },
   "outputs": [
    {
     "name": "stdout",
     "output_type": "stream",
     "text": [
      "Requirement already satisfied: catboost in /opt/conda/lib/python3.9/site-packages (1.0.3)\n",
      "Requirement already satisfied: graphviz in /opt/conda/lib/python3.9/site-packages (from catboost) (0.20.1)\n",
      "Requirement already satisfied: matplotlib in /opt/conda/lib/python3.9/site-packages (from catboost) (3.3.4)\n",
      "Requirement already satisfied: six in /opt/conda/lib/python3.9/site-packages (from catboost) (1.16.0)\n",
      "Requirement already satisfied: numpy>=1.16.0 in /opt/conda/lib/python3.9/site-packages (from catboost) (1.21.1)\n",
      "Requirement already satisfied: scipy in /opt/conda/lib/python3.9/site-packages (from catboost) (1.9.1)\n",
      "Requirement already satisfied: pandas>=0.24.0 in /opt/conda/lib/python3.9/site-packages (from catboost) (1.2.4)\n",
      "Requirement already satisfied: plotly in /opt/conda/lib/python3.9/site-packages (from catboost) (5.4.0)\n",
      "Requirement already satisfied: python-dateutil>=2.7.3 in /opt/conda/lib/python3.9/site-packages (from pandas>=0.24.0->catboost) (2.8.1)\n",
      "Requirement already satisfied: pytz>=2017.3 in /opt/conda/lib/python3.9/site-packages (from pandas>=0.24.0->catboost) (2021.1)\n",
      "Requirement already satisfied: pillow>=6.2.0 in /opt/conda/lib/python3.9/site-packages (from matplotlib->catboost) (8.4.0)\n",
      "Requirement already satisfied: kiwisolver>=1.0.1 in /opt/conda/lib/python3.9/site-packages (from matplotlib->catboost) (1.4.4)\n",
      "Requirement already satisfied: cycler>=0.10 in /opt/conda/lib/python3.9/site-packages (from matplotlib->catboost) (0.11.0)\n",
      "Requirement already satisfied: pyparsing!=2.0.4,!=2.1.2,!=2.1.6,>=2.0.3 in /opt/conda/lib/python3.9/site-packages (from matplotlib->catboost) (2.4.7)\n",
      "Requirement already satisfied: tenacity>=6.2.0 in /opt/conda/lib/python3.9/site-packages (from plotly->catboost) (8.0.1)\n",
      "Requirement already satisfied: imblearn in /opt/conda/lib/python3.9/site-packages (0.0)\n",
      "Requirement already satisfied: imbalanced-learn in /opt/conda/lib/python3.9/site-packages (from imblearn) (0.10.1)\n",
      "Requirement already satisfied: threadpoolctl>=2.0.0 in /opt/conda/lib/python3.9/site-packages (from imbalanced-learn->imblearn) (3.1.0)\n",
      "Requirement already satisfied: numpy>=1.17.3 in /opt/conda/lib/python3.9/site-packages (from imbalanced-learn->imblearn) (1.21.1)\n",
      "Requirement already satisfied: scipy>=1.3.2 in /opt/conda/lib/python3.9/site-packages (from imbalanced-learn->imblearn) (1.9.1)\n",
      "Requirement already satisfied: scikit-learn>=1.0.2 in /opt/conda/lib/python3.9/site-packages (from imbalanced-learn->imblearn) (1.2.2)\n",
      "Requirement already satisfied: joblib>=1.1.1 in /opt/conda/lib/python3.9/site-packages (from imbalanced-learn->imblearn) (1.2.0)\n",
      "Requirement already satisfied: spacy in /opt/conda/lib/python3.9/site-packages (3.2.0)\n",
      "Requirement already satisfied: packaging>=20.0 in /opt/conda/lib/python3.9/site-packages (from spacy) (21.3)\n",
      "Requirement already satisfied: pathy>=0.3.5 in /opt/conda/lib/python3.9/site-packages (from spacy) (0.6.2)\n",
      "Requirement already satisfied: jinja2 in /opt/conda/lib/python3.9/site-packages (from spacy) (3.0.1)\n",
      "Requirement already satisfied: requests<3.0.0,>=2.13.0 in /opt/conda/lib/python3.9/site-packages (from spacy) (2.25.1)\n",
      "Requirement already satisfied: spacy-loggers<2.0.0,>=1.0.0 in /opt/conda/lib/python3.9/site-packages (from spacy) (1.0.3)\n",
      "Requirement already satisfied: numpy>=1.15.0 in /opt/conda/lib/python3.9/site-packages (from spacy) (1.21.1)\n",
      "Requirement already satisfied: setuptools in /opt/conda/lib/python3.9/site-packages (from spacy) (49.6.0.post20210108)\n",
      "Requirement already satisfied: typer<0.5.0,>=0.3.0 in /opt/conda/lib/python3.9/site-packages (from spacy) (0.4.2)\n",
      "Requirement already satisfied: langcodes<4.0.0,>=3.2.0 in /opt/conda/lib/python3.9/site-packages (from spacy) (3.3.0)\n",
      "Requirement already satisfied: spacy-legacy<3.1.0,>=3.0.8 in /opt/conda/lib/python3.9/site-packages (from spacy) (3.0.10)\n",
      "Requirement already satisfied: srsly<3.0.0,>=2.4.1 in /opt/conda/lib/python3.9/site-packages (from spacy) (2.4.4)\n",
      "Requirement already satisfied: wasabi<1.1.0,>=0.8.1 in /opt/conda/lib/python3.9/site-packages (from spacy) (0.10.1)\n",
      "Requirement already satisfied: preshed<3.1.0,>=3.0.2 in /opt/conda/lib/python3.9/site-packages (from spacy) (3.0.7)\n",
      "Requirement already satisfied: blis<0.8.0,>=0.4.0 in /opt/conda/lib/python3.9/site-packages (from spacy) (0.7.8)\n",
      "Requirement already satisfied: catalogue<2.1.0,>=2.0.6 in /opt/conda/lib/python3.9/site-packages (from spacy) (2.0.8)\n",
      "Requirement already satisfied: tqdm<5.0.0,>=4.38.0 in /opt/conda/lib/python3.9/site-packages (from spacy) (4.61.2)\n",
      "Requirement already satisfied: pydantic!=1.8,!=1.8.1,<1.9.0,>=1.7.4 in /opt/conda/lib/python3.9/site-packages (from spacy) (1.8.2)\n",
      "Requirement already satisfied: cymem<2.1.0,>=2.0.2 in /opt/conda/lib/python3.9/site-packages (from spacy) (2.0.6)\n",
      "Requirement already satisfied: murmurhash<1.1.0,>=0.28.0 in /opt/conda/lib/python3.9/site-packages (from spacy) (1.0.8)\n",
      "Requirement already satisfied: thinc<8.1.0,>=8.0.12 in /opt/conda/lib/python3.9/site-packages (from spacy) (8.0.17)\n",
      "Requirement already satisfied: pyparsing!=3.0.5,>=2.0.2 in /opt/conda/lib/python3.9/site-packages (from packaging>=20.0->spacy) (2.4.7)\n",
      "Requirement already satisfied: smart-open<6.0.0,>=5.2.1 in /opt/conda/lib/python3.9/site-packages (from pathy>=0.3.5->spacy) (5.2.1)\n",
      "Requirement already satisfied: typing-extensions>=3.7.4.3 in /opt/conda/lib/python3.9/site-packages (from pydantic!=1.8,!=1.8.1,<1.9.0,>=1.7.4->spacy) (4.3.0)\n",
      "Requirement already satisfied: chardet<5,>=3.0.2 in /opt/conda/lib/python3.9/site-packages (from requests<3.0.0,>=2.13.0->spacy) (4.0.0)\n",
      "Requirement already satisfied: idna<3,>=2.5 in /opt/conda/lib/python3.9/site-packages (from requests<3.0.0,>=2.13.0->spacy) (2.10)\n",
      "Requirement already satisfied: certifi>=2017.4.17 in /opt/conda/lib/python3.9/site-packages (from requests<3.0.0,>=2.13.0->spacy) (2022.6.15)\n",
      "Requirement already satisfied: urllib3<1.27,>=1.21.1 in /opt/conda/lib/python3.9/site-packages (from requests<3.0.0,>=2.13.0->spacy) (1.26.6)\n",
      "Requirement already satisfied: click<9.0.0,>=7.1.1 in /opt/conda/lib/python3.9/site-packages (from typer<0.5.0,>=0.3.0->spacy) (8.1.3)\n",
      "Requirement already satisfied: MarkupSafe>=2.0 in /opt/conda/lib/python3.9/site-packages (from jinja2->spacy) (2.1.1)\n",
      "Collecting en-core-web-sm==3.2.0\n",
      "  Downloading https://github.com/explosion/spacy-models/releases/download/en_core_web_sm-3.2.0/en_core_web_sm-3.2.0-py3-none-any.whl (13.9 MB)\n",
      "\u001b[K     |████████████████████████████████| 13.9 MB 2.1 MB/s eta 0:00:01\n",
      "\u001b[?25hRequirement already satisfied: spacy<3.3.0,>=3.2.0 in /opt/conda/lib/python3.9/site-packages (from en-core-web-sm==3.2.0) (3.2.0)\n",
      "Requirement already satisfied: tqdm<5.0.0,>=4.38.0 in /opt/conda/lib/python3.9/site-packages (from spacy<3.3.0,>=3.2.0->en-core-web-sm==3.2.0) (4.61.2)\n",
      "Requirement already satisfied: blis<0.8.0,>=0.4.0 in /opt/conda/lib/python3.9/site-packages (from spacy<3.3.0,>=3.2.0->en-core-web-sm==3.2.0) (0.7.8)\n",
      "Requirement already satisfied: setuptools in /opt/conda/lib/python3.9/site-packages (from spacy<3.3.0,>=3.2.0->en-core-web-sm==3.2.0) (49.6.0.post20210108)\n",
      "Requirement already satisfied: pydantic!=1.8,!=1.8.1,<1.9.0,>=1.7.4 in /opt/conda/lib/python3.9/site-packages (from spacy<3.3.0,>=3.2.0->en-core-web-sm==3.2.0) (1.8.2)\n",
      "Requirement already satisfied: preshed<3.1.0,>=3.0.2 in /opt/conda/lib/python3.9/site-packages (from spacy<3.3.0,>=3.2.0->en-core-web-sm==3.2.0) (3.0.7)\n",
      "Requirement already satisfied: requests<3.0.0,>=2.13.0 in /opt/conda/lib/python3.9/site-packages (from spacy<3.3.0,>=3.2.0->en-core-web-sm==3.2.0) (2.25.1)\n",
      "Requirement already satisfied: typer<0.5.0,>=0.3.0 in /opt/conda/lib/python3.9/site-packages (from spacy<3.3.0,>=3.2.0->en-core-web-sm==3.2.0) (0.4.2)\n",
      "Requirement already satisfied: thinc<8.1.0,>=8.0.12 in /opt/conda/lib/python3.9/site-packages (from spacy<3.3.0,>=3.2.0->en-core-web-sm==3.2.0) (8.0.17)\n",
      "Requirement already satisfied: wasabi<1.1.0,>=0.8.1 in /opt/conda/lib/python3.9/site-packages (from spacy<3.3.0,>=3.2.0->en-core-web-sm==3.2.0) (0.10.1)\n",
      "Requirement already satisfied: catalogue<2.1.0,>=2.0.6 in /opt/conda/lib/python3.9/site-packages (from spacy<3.3.0,>=3.2.0->en-core-web-sm==3.2.0) (2.0.8)\n",
      "Requirement already satisfied: spacy-legacy<3.1.0,>=3.0.8 in /opt/conda/lib/python3.9/site-packages (from spacy<3.3.0,>=3.2.0->en-core-web-sm==3.2.0) (3.0.10)\n",
      "Requirement already satisfied: spacy-loggers<2.0.0,>=1.0.0 in /opt/conda/lib/python3.9/site-packages (from spacy<3.3.0,>=3.2.0->en-core-web-sm==3.2.0) (1.0.3)\n",
      "Requirement already satisfied: packaging>=20.0 in /opt/conda/lib/python3.9/site-packages (from spacy<3.3.0,>=3.2.0->en-core-web-sm==3.2.0) (21.3)\n",
      "Requirement already satisfied: jinja2 in /opt/conda/lib/python3.9/site-packages (from spacy<3.3.0,>=3.2.0->en-core-web-sm==3.2.0) (3.0.1)\n",
      "Requirement already satisfied: cymem<2.1.0,>=2.0.2 in /opt/conda/lib/python3.9/site-packages (from spacy<3.3.0,>=3.2.0->en-core-web-sm==3.2.0) (2.0.6)\n",
      "Requirement already satisfied: srsly<3.0.0,>=2.4.1 in /opt/conda/lib/python3.9/site-packages (from spacy<3.3.0,>=3.2.0->en-core-web-sm==3.2.0) (2.4.4)\n",
      "Requirement already satisfied: langcodes<4.0.0,>=3.2.0 in /opt/conda/lib/python3.9/site-packages (from spacy<3.3.0,>=3.2.0->en-core-web-sm==3.2.0) (3.3.0)\n",
      "Requirement already satisfied: numpy>=1.15.0 in /opt/conda/lib/python3.9/site-packages (from spacy<3.3.0,>=3.2.0->en-core-web-sm==3.2.0) (1.21.1)\n",
      "Requirement already satisfied: murmurhash<1.1.0,>=0.28.0 in /opt/conda/lib/python3.9/site-packages (from spacy<3.3.0,>=3.2.0->en-core-web-sm==3.2.0) (1.0.8)\n",
      "Requirement already satisfied: pathy>=0.3.5 in /opt/conda/lib/python3.9/site-packages (from spacy<3.3.0,>=3.2.0->en-core-web-sm==3.2.0) (0.6.2)\n",
      "Requirement already satisfied: pyparsing!=3.0.5,>=2.0.2 in /opt/conda/lib/python3.9/site-packages (from packaging>=20.0->spacy<3.3.0,>=3.2.0->en-core-web-sm==3.2.0) (2.4.7)\n",
      "Requirement already satisfied: smart-open<6.0.0,>=5.2.1 in /opt/conda/lib/python3.9/site-packages (from pathy>=0.3.5->spacy<3.3.0,>=3.2.0->en-core-web-sm==3.2.0) (5.2.1)\n",
      "Requirement already satisfied: typing-extensions>=3.7.4.3 in /opt/conda/lib/python3.9/site-packages (from pydantic!=1.8,!=1.8.1,<1.9.0,>=1.7.4->spacy<3.3.0,>=3.2.0->en-core-web-sm==3.2.0) (4.3.0)\n",
      "Requirement already satisfied: certifi>=2017.4.17 in /opt/conda/lib/python3.9/site-packages (from requests<3.0.0,>=2.13.0->spacy<3.3.0,>=3.2.0->en-core-web-sm==3.2.0) (2022.6.15)\n",
      "Requirement already satisfied: urllib3<1.27,>=1.21.1 in /opt/conda/lib/python3.9/site-packages (from requests<3.0.0,>=2.13.0->spacy<3.3.0,>=3.2.0->en-core-web-sm==3.2.0) (1.26.6)\n",
      "Requirement already satisfied: idna<3,>=2.5 in /opt/conda/lib/python3.9/site-packages (from requests<3.0.0,>=2.13.0->spacy<3.3.0,>=3.2.0->en-core-web-sm==3.2.0) (2.10)\n",
      "Requirement already satisfied: chardet<5,>=3.0.2 in /opt/conda/lib/python3.9/site-packages (from requests<3.0.0,>=2.13.0->spacy<3.3.0,>=3.2.0->en-core-web-sm==3.2.0) (4.0.0)\n",
      "Requirement already satisfied: click<9.0.0,>=7.1.1 in /opt/conda/lib/python3.9/site-packages (from typer<0.5.0,>=0.3.0->spacy<3.3.0,>=3.2.0->en-core-web-sm==3.2.0) (8.1.3)\n",
      "Requirement already satisfied: MarkupSafe>=2.0 in /opt/conda/lib/python3.9/site-packages (from jinja2->spacy<3.3.0,>=3.2.0->en-core-web-sm==3.2.0) (2.1.1)\n",
      "\u001b[38;5;2m✔ Download and installation successful\u001b[0m\n",
      "You can now load the package via spacy.load('en_core_web_sm')\n",
      "Requirement already satisfied: pandarallel in /opt/conda/lib/python3.9/site-packages (1.6.4)\n",
      "Requirement already satisfied: pandas>=1 in /opt/conda/lib/python3.9/site-packages (from pandarallel) (1.2.4)\n",
      "Requirement already satisfied: psutil in /opt/conda/lib/python3.9/site-packages (from pandarallel) (5.9.4)\n",
      "Requirement already satisfied: dill>=0.3.1 in /opt/conda/lib/python3.9/site-packages (from pandarallel) (0.3.6)\n",
      "Requirement already satisfied: python-dateutil>=2.7.3 in /opt/conda/lib/python3.9/site-packages (from pandas>=1->pandarallel) (2.8.1)\n",
      "Requirement already satisfied: pytz>=2017.3 in /opt/conda/lib/python3.9/site-packages (from pandas>=1->pandarallel) (2021.1)\n",
      "Requirement already satisfied: numpy>=1.16.5 in /opt/conda/lib/python3.9/site-packages (from pandas>=1->pandarallel) (1.21.1)\n",
      "Requirement already satisfied: six>=1.5 in /opt/conda/lib/python3.9/site-packages (from python-dateutil>=2.7.3->pandas>=1->pandarallel) (1.16.0)\n"
     ]
    }
   ],
   "source": [
    "!pip install catboost\n",
    "!pip install imblearn\n",
    "!pip install spacy\n",
    "!python -m spacy download en_core_web_sm\n",
    "!pip install pandarallel"
   ]
  },
  {
   "cell_type": "code",
   "execution_count": 2,
   "metadata": {},
   "outputs": [
    {
     "name": "stdout",
     "output_type": "stream",
     "text": [
      "INFO: Pandarallel will run on 4 workers.\n",
      "INFO: Pandarallel will use Memory file system to transfer data between the main process and workers.\n"
     ]
    },
    {
     "name": "stderr",
     "output_type": "stream",
     "text": [
      "[nltk_data] Downloading package wordnet to /home/jovyan/nltk_data...\n",
      "[nltk_data]   Package wordnet is already up-to-date!\n"
     ]
    }
   ],
   "source": [
    "import numpy as np\n",
    "import pandas as pd\n",
    "import matplotlib.pyplot as plt\n",
    "import seaborn as sns\n",
    "import re\n",
    "\n",
    "import nltk\n",
    "from nltk.corpus import stopwords as nltk_stopwords\n",
    "\n",
    "from sklearn.feature_extraction.text import TfidfVectorizer\n",
    "from sklearn.tree import DecisionTreeClassifier\n",
    "from sklearn.linear_model import LogisticRegression\n",
    "from sklearn.model_selection import (\n",
    "    train_test_split,\n",
    "    GridSearchCV)\n",
    "from sklearn.metrics import f1_score\n",
    "from sklearn.utils import shuffle\n",
    "\n",
    "from tqdm import tqdm, tqdm_notebook, notebook\n",
    "\n",
    "from pandarallel import pandarallel\n",
    "tqdm.pandas(desc=\"progress\") \n",
    "pandarallel.initialize(progress_bar = True)\n",
    "\n",
    "import spacy\n",
    "from spacy.lang.en.stop_words import STOP_WORDS\n",
    "import en_core_web_sm\n",
    "\n",
    "tqdm.pandas()\n",
    "nltk.download('wordnet')\n",
    "sns.set(rc={'figure.figsize': (10,7)})"
   ]
  },
  {
   "cell_type": "code",
   "execution_count": 3,
   "metadata": {},
   "outputs": [],
   "source": [
    "def start(df):\n",
    "        df.info()\n",
    "        print('\\n',df.describe())\n",
    "        display(df.sample(5))\n",
    "        print('Количество пропусков в таблице:', df.isna().sum().sum(), '\\n')\n",
    "        print(df.isna().sum(), '\\n')\n",
    "        print('Количество дубликатов в таблице:',  df.duplicated().sum())\n",
    "        df.hist(figsize=(10, 6));"
   ]
  },
  {
   "cell_type": "code",
   "execution_count": 4,
   "metadata": {},
   "outputs": [
    {
     "name": "stdout",
     "output_type": "stream",
     "text": [
      "<class 'pandas.core.frame.DataFrame'>\n",
      "Int64Index: 159292 entries, 0 to 159450\n",
      "Data columns (total 2 columns):\n",
      " #   Column  Non-Null Count   Dtype \n",
      "---  ------  --------------   ----- \n",
      " 0   text    159292 non-null  object\n",
      " 1   toxic   159292 non-null  int64 \n",
      "dtypes: int64(1), object(1)\n",
      "memory usage: 3.6+ MB\n",
      "\n",
      "                toxic\n",
      "count  159292.000000\n",
      "mean        0.101612\n",
      "std         0.302139\n",
      "min         0.000000\n",
      "25%         0.000000\n",
      "50%         0.000000\n",
      "75%         0.000000\n",
      "max         1.000000\n"
     ]
    },
    {
     "data": {
      "text/html": [
       "<div>\n",
       "<style scoped>\n",
       "    .dataframe tbody tr th:only-of-type {\n",
       "        vertical-align: middle;\n",
       "    }\n",
       "\n",
       "    .dataframe tbody tr th {\n",
       "        vertical-align: top;\n",
       "    }\n",
       "\n",
       "    .dataframe thead th {\n",
       "        text-align: right;\n",
       "    }\n",
       "</style>\n",
       "<table border=\"1\" class=\"dataframe\">\n",
       "  <thead>\n",
       "    <tr style=\"text-align: right;\">\n",
       "      <th></th>\n",
       "      <th>text</th>\n",
       "      <th>toxic</th>\n",
       "    </tr>\n",
       "  </thead>\n",
       "  <tbody>\n",
       "    <tr>\n",
       "      <th>35652</th>\n",
       "      <td>\"\\nThere is a difference between Pink Floyd th...</td>\n",
       "      <td>0</td>\n",
       "    </tr>\n",
       "    <tr>\n",
       "      <th>52904</th>\n",
       "      <td>You might want to consider prodding Lara out o...</td>\n",
       "      <td>0</td>\n",
       "    </tr>\n",
       "    <tr>\n",
       "      <th>28799</th>\n",
       "      <td>Since all of this began I have read quite a lo...</td>\n",
       "      <td>0</td>\n",
       "    </tr>\n",
       "    <tr>\n",
       "      <th>71645</th>\n",
       "      <td>CAS2?\\nCould somone expand this page to includ...</td>\n",
       "      <td>0</td>\n",
       "    </tr>\n",
       "    <tr>\n",
       "      <th>1972</th>\n",
       "      <td>\"\\n\\nAddressing:\\nWhile \"\"Indian tribe\"\" is of...</td>\n",
       "      <td>0</td>\n",
       "    </tr>\n",
       "  </tbody>\n",
       "</table>\n",
       "</div>"
      ],
      "text/plain": [
       "                                                    text  toxic\n",
       "35652  \"\\nThere is a difference between Pink Floyd th...      0\n",
       "52904  You might want to consider prodding Lara out o...      0\n",
       "28799  Since all of this began I have read quite a lo...      0\n",
       "71645  CAS2?\\nCould somone expand this page to includ...      0\n",
       "1972   \"\\n\\nAddressing:\\nWhile \"\"Indian tribe\"\" is of...      0"
      ]
     },
     "metadata": {},
     "output_type": "display_data"
    },
    {
     "name": "stdout",
     "output_type": "stream",
     "text": [
      "Количество пропусков в таблице: 0 \n",
      "\n",
      "text     0\n",
      "toxic    0\n",
      "dtype: int64 \n",
      "\n",
      "Количество дубликатов в таблице: 0\n"
     ]
    },
    {
     "data": {
      "image/png": "[encoded data removed]",
      "text/plain": [
       "<Figure size 720x432 with 1 Axes>"
      ]
     },
     "metadata": {},
     "output_type": "display_data"
    }
   ],
   "source": [
    "data = pd.read_csv('toxic_comments.csv', index_col=0)\n",
    "# data = pd.read_csv('toxic_comments.csv')\n",
    "start(data)"
   ]
  },
  {
   "cell_type": "markdown",
   "metadata": {},
   "source": [
    "Для начала лематизарует наши текст попутно избавимся от стоп-слов. Напишем функцию."
   ]
  },
  {
   "cell_type": "code",
   "execution_count": 5,
   "metadata": {
    "scrolled": true
   },
   "outputs": [
    {
     "name": "stdout",
     "output_type": "stream",
     "text": [
      "Исходный текст: Explanation\n",
      "Why the edits made under my username Hardcore Metallica Fan were reverted? They weren't vandalisms, just closure on some GAs after I voted at New York Dolls FAC. And please don't remove the template from the talk page since I'm retired now.89.205.38.27\n",
      "Лемматизированный текст: explanation \n",
      " edit username hardcore metallica fan revert ? vandalism , closure gas vote new york doll fac . remove template talk page retire now.89.205.38.27\n"
     ]
    }
   ],
   "source": [
    "corpus = data['text']\n",
    "\n",
    "nlp = spacy.load('en_core_web_sm')\n",
    "\n",
    "def lemmatize(text):\n",
    "    # Преобразуем текст в объект docs\n",
    "    docs = nlp(text.lower())\n",
    "\n",
    "    # Собираем леммы в список\n",
    "    lemmas = []\n",
    "    for token in docs:\n",
    "        if not token.is_stop:\n",
    "            lemma = token.lemma_\n",
    "            lemmas.append(lemma)\n",
    "\n",
    "    # Объединяем леммы в строку с разделителем \" \"\n",
    "    lemmatized_text = \" \".join(lemmas)\n",
    "    return lemmatized_text\n",
    "\n",
    "print(\"Исходный текст:\", corpus[0])\n",
    "print(\"Лемматизированный текст:\", lemmatize(corpus[0]))"
   ]
  },
  {
   "cell_type": "code",
   "execution_count": 6,
   "metadata": {},
   "outputs": [
    {
     "name": "stderr",
     "output_type": "stream",
     "text": [
      "100%|██████████| 159292/159292 [55:02<00:00, 48.24it/s]  "
     ]
    },
    {
     "name": "stdout",
     "output_type": "stream",
     "text": [
      "CPU times: user 53min 27s, sys: 24.5 s, total: 53min 51s\n",
      "Wall time: 55min 2s\n"
     ]
    },
    {
     "name": "stderr",
     "output_type": "stream",
     "text": [
      "\n"
     ]
    },
    {
     "data": {
      "text/html": [
       "<div>\n",
       "<style scoped>\n",
       "    .dataframe tbody tr th:only-of-type {\n",
       "        vertical-align: middle;\n",
       "    }\n",
       "\n",
       "    .dataframe tbody tr th {\n",
       "        vertical-align: top;\n",
       "    }\n",
       "\n",
       "    .dataframe thead th {\n",
       "        text-align: right;\n",
       "    }\n",
       "</style>\n",
       "<table border=\"1\" class=\"dataframe\">\n",
       "  <thead>\n",
       "    <tr style=\"text-align: right;\">\n",
       "      <th></th>\n",
       "      <th>text</th>\n",
       "      <th>toxic</th>\n",
       "    </tr>\n",
       "  </thead>\n",
       "  <tbody>\n",
       "    <tr>\n",
       "      <th>67563</th>\n",
       "      <td>thank mr / ms firsfron ronchester   think answ...</td>\n",
       "      <td>0</td>\n",
       "    </tr>\n",
       "    <tr>\n",
       "      <th>28481</th>\n",
       "      <td>september 2015 ( utc ) \\n  fact lie repeat ass...</td>\n",
       "      <td>0</td>\n",
       "    </tr>\n",
       "    <tr>\n",
       "      <th>128040</th>\n",
       "      <td>\" welcome ! \\n\\n hello , , welcome wikipedia !...</td>\n",
       "      <td>0</td>\n",
       "    </tr>\n",
       "  </tbody>\n",
       "</table>\n",
       "</div>"
      ],
      "text/plain": [
       "                                                     text  toxic\n",
       "67563   thank mr / ms firsfron ronchester   think answ...      0\n",
       "28481   september 2015 ( utc ) \\n  fact lie repeat ass...      0\n",
       "128040  \" welcome ! \\n\\n hello , , welcome wikipedia !...      0"
      ]
     },
     "execution_count": 6,
     "metadata": {},
     "output_type": "execute_result"
    }
   ],
   "source": [
    "%%time\n",
    "data['text'] = data['text'].progress_apply(lemmatize)\n",
    "# data['text'] = data['text'].parallel_apply(lemmatize)\n",
    "data.sample(3)"
   ]
  },
  {
   "cell_type": "markdown",
   "metadata": {},
   "source": [
    "Далее очистим текст от различных символов. Так же составим функцию и применим к столбцу таблицы."
   ]
  },
  {
   "cell_type": "code",
   "execution_count": 7,
   "metadata": {},
   "outputs": [
    {
     "name": "stdout",
     "output_type": "stream",
     "text": [
      "Исходный текст: explanation \n",
      " edit username hardcore metallica fan revert ? vandalism , closure gas vote new york doll fac . remove template talk page retire now.89.205.38.27\n",
      "Обработанный текст: explanation edit username hardcore metallica fan revert vandalism closure gas vote new york doll fac remove template talk page retire now\n"
     ]
    }
   ],
   "source": [
    "corpus = data['text']\n",
    "def clear_text(text):\n",
    "    re_text = re.sub(r'[^a-zA-Z ]', ' ', text)\n",
    "    re_text = re_text.split()\n",
    "    return \" \".join(re_text)\n",
    "\n",
    "print(\"Исходный текст:\", corpus[0])\n",
    "print(\"Обработанный текст:\", clear_text(corpus[0]))"
   ]
  },
  {
   "cell_type": "code",
   "execution_count": 8,
   "metadata": {
    "scrolled": true
   },
   "outputs": [
    {
     "name": "stderr",
     "output_type": "stream",
     "text": [
      "100%|██████████| 159292/159292 [00:02<00:00, 70606.07it/s]\n"
     ]
    },
    {
     "data": {
      "text/html": [
       "<div>\n",
       "<style scoped>\n",
       "    .dataframe tbody tr th:only-of-type {\n",
       "        vertical-align: middle;\n",
       "    }\n",
       "\n",
       "    .dataframe tbody tr th {\n",
       "        vertical-align: top;\n",
       "    }\n",
       "\n",
       "    .dataframe thead th {\n",
       "        text-align: right;\n",
       "    }\n",
       "</style>\n",
       "<table border=\"1\" class=\"dataframe\">\n",
       "  <thead>\n",
       "    <tr style=\"text-align: right;\">\n",
       "      <th></th>\n",
       "      <th>text</th>\n",
       "      <th>toxic</th>\n",
       "    </tr>\n",
       "  </thead>\n",
       "  <tbody>\n",
       "    <tr>\n",
       "      <th>87618</th>\n",
       "      <td>ambush massacre large number personally think ...</td>\n",
       "      <td>0</td>\n",
       "    </tr>\n",
       "    <tr>\n",
       "      <th>129295</th>\n",
       "      <td>dissident aggressor</td>\n",
       "      <td>0</td>\n",
       "    </tr>\n",
       "    <tr>\n",
       "      <th>63400</th>\n",
       "      <td>answer user talk page farmbrough farmbrough</td>\n",
       "      <td>0</td>\n",
       "    </tr>\n",
       "  </tbody>\n",
       "</table>\n",
       "</div>"
      ],
      "text/plain": [
       "                                                     text  toxic\n",
       "87618   ambush massacre large number personally think ...      0\n",
       "129295                                dissident aggressor      0\n",
       "63400         answer user talk page farmbrough farmbrough      0"
      ]
     },
     "execution_count": 8,
     "metadata": {},
     "output_type": "execute_result"
    }
   ],
   "source": [
    "data['text'] = data['text'].progress_apply(clear_text)\n",
    "data.sample(3)"
   ]
  },
  {
   "cell_type": "markdown",
   "metadata": {},
   "source": [
    "Далее разобъём данные на обучающую и тестовую выборки. `(3|1)`"
   ]
  },
  {
   "cell_type": "code",
   "execution_count": 9,
   "metadata": {},
   "outputs": [
    {
     "name": "stdout",
     "output_type": "stream",
     "text": [
      "119469\n",
      "39823\n"
     ]
    }
   ],
   "source": [
    "features = data['text']\n",
    "target = data['toxic']\n",
    "\n",
    "features_train, features_test, target_train, target_test = train_test_split(\n",
    "    features, target, test_size=0.25, random_state=123456)\n",
    "\n",
    "print(features_train.shape[0])\n",
    "print(features_test.shape[0])"
   ]
  },
  {
   "cell_type": "markdown",
   "metadata": {},
   "source": [
    "Апсемплируем данные для обучения. Избавимся от дисбаланса классов."
   ]
  },
  {
   "cell_type": "code",
   "execution_count": 10,
   "metadata": {},
   "outputs": [],
   "source": [
    "def down_up_sample(features, target, fraction, repeat):\n",
    "    features_zeros = features[target == 0]\n",
    "    features_ones = features[target == 1]\n",
    "    target_zeros = target[target == 0]\n",
    "    target_ones = target[target == 1]\n",
    "\n",
    "    features_down_up = pd.concat([features_zeros.sample(frac=fraction, random_state=12345)] + [features_ones]*repeat)\n",
    "    target_down_up = pd.concat([target_zeros.sample(frac=fraction, random_state=12345)] + [target_ones]*repeat)\n",
    "    \n",
    "    features_down_up_sampled, target_down_up_sampled = shuffle(\n",
    "        features_down_up, target_down_up, random_state=12345)\n",
    "    \n",
    "    return features_down_up_sampled, target_down_up_sampled\n",
    "\n",
    "features_upsampled, target_upsampled  = down_up_sample(features_train, target_train, 0.6, 5)"
   ]
  },
  {
   "cell_type": "code",
   "execution_count": 11,
   "metadata": {},
   "outputs": [
    {
     "data": {
      "image/png": "[encoded data removed]",
      "text/plain": [
       "<Figure size 396x396 with 1 Axes>"
      ]
     },
     "metadata": {},
     "output_type": "display_data"
    }
   ],
   "source": [
    "target_upsampled.value_counts(normalize=True).plot(\n",
    "    kind='pie',\n",
    "    figsize=[5.5, 5.5], \n",
    "    legend=False, \n",
    "    autopct='%1.1f%%',\n",
    "    labels=['Токсичный отзыв, класс [0]','Не токсичный отзыв, класс [1]']\n",
    ")\n",
    "\n",
    "plt.title('Баланс распределения классов в данных')\n",
    "plt.ylabel('')\n",
    "plt.show()"
   ]
  },
  {
   "cell_type": "markdown",
   "metadata": {},
   "source": [
    "Отлично! Далее переведём наши признаки из текста в векторный вид."
   ]
  },
  {
   "cell_type": "code",
   "execution_count": 12,
   "metadata": {},
   "outputs": [
    {
     "name": "stdout",
     "output_type": "stream",
     "text": [
      "Размер матрицы train: (125700, 1297744)\n",
      "Размер матрицы test: (39823, 1297744)\n"
     ]
    }
   ],
   "source": [
    "corpus_train = features_upsampled.values\n",
    "corpus_test = features_test.values\n",
    "\n",
    "count_tf_idf = TfidfVectorizer(ngram_range=(1, 2))\n",
    "\n",
    "tf_idf_train = count_tf_idf.fit_transform(corpus_train)\n",
    "tf_idf_test = count_tf_idf.transform(corpus_test)\n",
    "\n",
    "print(\"Размер матрицы train:\", tf_idf_train.shape)\n",
    "print(\"Размер матрицы test:\", tf_idf_test.shape)"
   ]
  },
  {
   "cell_type": "markdown",
   "metadata": {},
   "source": [
    "**Вывод:** В начале работы мы загрузили данные в проект. У нас `3` столбца их которых нам нужны только `text и toxic`. Пропусков и дубликатов в столцах не было, но было видно, что наш целевой признак (`toxic`) имеет неравномерное количесвтво классов. Поэтому мы сделали апсемплирование данных для обучения. Пришли к балансу."
   ]
  },
  {
   "cell_type": "markdown",
   "metadata": {},
   "source": [
    "Так же при помощи библиотеки `spacy` мы обработали признаки, а именно сделали лемматизацию англоязычного текста и удалили не нужные символы и стоп-слова, чтобы они не создавали дополнитлеьный шум для моделей. Перевели признаки в векторный вид, установив значение параметра `ngram_range=(1, 2)`. Тем самым немного масштабируем данные, для лучшего понимания их моделями."
   ]
  },
  {
   "cell_type": "markdown",
   "metadata": {},
   "source": [
    "По итогу на этом этапе разделили данные на обучающую и тестовую выборки с соотношение `3 к 1`."
   ]
  },
  {
   "cell_type": "markdown",
   "metadata": {},
   "source": [
    "## Обучение моделей"
   ]
  },
  {
   "cell_type": "markdown",
   "metadata": {},
   "source": [
    "Будем работать с `2` моделями. `LogisticRegression и DecisionTreeClassifier`. Для поиска лучших гиперпараметров будем использовать `GridSearchCV`."
   ]
  },
  {
   "cell_type": "markdown",
   "metadata": {},
   "source": [
    "Начнём с первой. `LogisticRegression`."
   ]
  },
  {
   "cell_type": "code",
   "execution_count": 13,
   "metadata": {
    "scrolled": true
   },
   "outputs": [
    {
     "name": "stdout",
     "output_type": "stream",
     "text": [
      "Параметры лучшей модели: {'C': 200}\n",
      "F1 лучшей модели: 0.986602474018054\n",
      "CPU times: user 5min 34s, sys: 3min 4s, total: 8min 39s\n",
      "Wall time: 8min 40s\n"
     ]
    }
   ],
   "source": [
    "%%time\n",
    "model = LogisticRegression(solver='liblinear', random_state=12345)\n",
    "\n",
    "# зададим параметры\n",
    "param_grid = {'C': [1, 10, 50, 100, 200]}\n",
    "\n",
    "grid = GridSearchCV(model, param_grid, cv=3, n_jobs=-1, scoring='f1')\n",
    "grid.fit(tf_idf_train, target_upsampled)\n",
    "\n",
    "F1_lgr = grid.best_score_\n",
    "\n",
    "print('Параметры лучшей модели:', grid.best_params_)\n",
    "print('F1 лучшей модели:', F1_lgr)"
   ]
  },
  {
   "cell_type": "markdown",
   "metadata": {},
   "source": [
    "И попробуем модель `DecisionTreeClassifier`."
   ]
  },
  {
   "cell_type": "code",
   "execution_count": 14,
   "metadata": {
    "scrolled": true
   },
   "outputs": [
    {
     "name": "stdout",
     "output_type": "stream",
     "text": [
      "Fitting 3 folds for each of 4 candidates, totalling 12 fits\n",
      "Параметры лучшей модели: {'max_depth': 40}\n",
      "F1 лучшей модели: 0.824667726043382\n",
      "CPU times: user 39min 2s, sys: 6.18 s, total: 39min 8s\n",
      "Wall time: 39min 10s\n"
     ]
    }
   ],
   "source": [
    "%%time\n",
    "model = DecisionTreeClassifier(random_state=12345)\n",
    "\n",
    "# зададим параметры\n",
    "param_grid = {'max_depth': [25, 30, 35, 40]}\n",
    "              \n",
    "grid = GridSearchCV(model, param_grid, cv=3, n_jobs=-1, scoring='f1', verbose=True)\n",
    "grid.fit(tf_idf_train, target_upsampled)\n",
    "\n",
    "F1_rfc = grid.best_score_\n",
    "\n",
    "print('Параметры лучшей модели:', grid.best_params_)\n",
    "print('F1 лучшей модели:', F1_rfc)"
   ]
  },
  {
   "cell_type": "markdown",
   "metadata": {},
   "source": [
    "Сделаем проверку лучшей модели на тестовой выборке. В нашем случае это `LogisticRegression`."
   ]
  },
  {
   "cell_type": "code",
   "execution_count": 15,
   "metadata": {},
   "outputs": [
    {
     "name": "stdout",
     "output_type": "stream",
     "text": [
      "0.7707366043418246\n"
     ]
    }
   ],
   "source": [
    "model = LogisticRegression(solver='liblinear', C=200, random_state=12345)\n",
    "model.fit(tf_idf_train, target_upsampled)\n",
    "predicted = model.predict(tf_idf_test)\n",
    "\n",
    "print(f1_score(target_test, predicted))"
   ]
  },
  {
   "cell_type": "markdown",
   "metadata": {},
   "source": [
    "**Вывод:** Мы обучили 2 полулярные, но разного между собой по принципу работы, модели. Это `LogisticRegression и DecisionTreeClassifier`. Для поиска лучших гиперпараметров использовали `GridSearchCV`. Как итог, лучшей на тренировочной выборке показала себя модель `LogisticRegression` со значением `f1=0.99`. На тестовой выборке результат метрики `0.77`."
   ]
  },
  {
   "cell_type": "markdown",
   "metadata": {},
   "source": [
    "## Общий вывод"
   ]
  },
  {
   "cell_type": "markdown",
   "metadata": {},
   "source": [
    "В начале работы мы загрузили данные в проект. Пропусков и дубликатов в столцах не было, но было видно, что наш целевой признак (`toxic`) имеет неравномерное количесвтво классов. Поэтому мы сделали апсемплирование данных для обучения. Пришли к балансу."
   ]
  },
  {
   "cell_type": "markdown",
   "metadata": {},
   "source": [
    "Так же при помощи библиотеки `spacy` мы обработали признаки, а именно сделали лемматизацию англоязычного текста и удалили не нужные символы и стоп-слова, чтобы они не создавали дополнитлеьный шум для моделей. Перевели признаки в векторный вид, установив значение параметра `ngram_range=(1, 2)`. Тем самым немного масштабируем данные, для лучшего понимания их моделями."
   ]
  },
  {
   "cell_type": "markdown",
   "metadata": {},
   "source": [
    "По итогу на этом этапе разделили данные на обучающую и тестовую выборки с соотношение `3 к 1`."
   ]
  },
  {
   "cell_type": "markdown",
   "metadata": {},
   "source": [
    "Далее мы обучили `2` полулярные, но разного между собой по принципу работы, модели. Это `LogisticRegression и DecisionTreeClassifier`. Для поиска лучших гиперпараметров использовали `GridSearchCV`. Как итог, лучшей на тренировочной выборке показала себя модель `LogisticRegression` со значением `f1=0.99`. На тестовой выборке результат метрики `0.77` - можно рекомендовать нашу модель."
   ]
  }
 ],
 "metadata": {
  "ExecuteTimeLog": [
   {
    "duration": 1740,
    "start_time": "2023-03-21T07:59:02.422Z"
   },
   {
    "duration": 6,
    "start_time": "2023-03-21T08:00:13.493Z"
   },
   {
    "duration": 4,
    "start_time": "2023-03-21T08:00:13.958Z"
   },
   {
    "duration": 2369,
    "start_time": "2023-03-21T08:00:14.595Z"
   },
   {
    "duration": 33,
    "start_time": "2023-03-21T08:08:05.970Z"
   },
   {
    "duration": 206,
    "start_time": "2023-03-21T08:13:14.634Z"
   },
   {
    "duration": 623,
    "start_time": "2023-03-21T08:13:24.531Z"
   },
   {
    "duration": 78,
    "start_time": "2023-03-21T08:13:30.640Z"
   },
   {
    "duration": 199,
    "start_time": "2023-03-21T08:14:21.500Z"
   },
   {
    "duration": 61,
    "start_time": "2023-03-21T08:14:25.260Z"
   },
   {
    "duration": 63,
    "start_time": "2023-03-21T08:15:45.038Z"
   },
   {
    "duration": 10,
    "start_time": "2023-03-21T09:04:24.585Z"
   },
   {
    "duration": 2159,
    "start_time": "2023-03-21T09:08:47.625Z"
   },
   {
    "duration": 26,
    "start_time": "2023-03-21T09:09:10.957Z"
   },
   {
    "duration": 38,
    "start_time": "2023-03-21T09:09:41.555Z"
   },
   {
    "duration": 937,
    "start_time": "2023-03-21T09:10:36.272Z"
   },
   {
    "duration": 14,
    "start_time": "2023-03-21T09:11:01.094Z"
   },
   {
    "duration": 12,
    "start_time": "2023-03-21T09:11:08.730Z"
   },
   {
    "duration": 6,
    "start_time": "2023-03-21T09:11:17.463Z"
   },
   {
    "duration": 5,
    "start_time": "2023-03-21T09:11:17.896Z"
   },
   {
    "duration": 1834,
    "start_time": "2023-03-21T09:11:18.384Z"
   },
   {
    "duration": 21,
    "start_time": "2023-03-21T09:11:20.220Z"
   },
   {
    "duration": 889,
    "start_time": "2023-03-21T09:11:22.024Z"
   },
   {
    "duration": 1485,
    "start_time": "2023-03-21T09:11:42.360Z"
   },
   {
    "duration": 21,
    "start_time": "2023-03-21T09:11:47.200Z"
   },
   {
    "duration": 25,
    "start_time": "2023-03-21T09:11:49.777Z"
   },
   {
    "duration": 989,
    "start_time": "2023-03-21T09:12:52.793Z"
   },
   {
    "duration": 834,
    "start_time": "2023-03-21T09:13:00.116Z"
   },
   {
    "duration": 1592,
    "start_time": "2023-03-21T09:13:39.178Z"
   },
   {
    "duration": 22,
    "start_time": "2023-03-21T09:13:43.401Z"
   },
   {
    "duration": 899,
    "start_time": "2023-03-21T09:13:46.070Z"
   },
   {
    "duration": 1729,
    "start_time": "2023-03-21T09:14:19.760Z"
   },
   {
    "duration": 21,
    "start_time": "2023-03-21T09:14:24.280Z"
   },
   {
    "duration": 873,
    "start_time": "2023-03-21T09:14:26.783Z"
   },
   {
    "duration": 5,
    "start_time": "2023-03-21T09:14:54.171Z"
   },
   {
    "duration": 13,
    "start_time": "2023-03-21T09:16:19.354Z"
   },
   {
    "duration": 11,
    "start_time": "2023-03-21T09:16:26.395Z"
   },
   {
    "duration": 5,
    "start_time": "2023-03-21T09:16:48.205Z"
   },
   {
    "duration": 5,
    "start_time": "2023-03-21T09:17:15.155Z"
   },
   {
    "duration": 1657,
    "start_time": "2023-03-21T09:17:31.570Z"
   },
   {
    "duration": 24,
    "start_time": "2023-03-21T09:17:36.438Z"
   },
   {
    "duration": 81,
    "start_time": "2023-03-21T09:17:38.025Z"
   },
   {
    "duration": 1638,
    "start_time": "2023-03-21T09:21:47.534Z"
   },
   {
    "duration": 24,
    "start_time": "2023-03-21T09:21:55.588Z"
   },
   {
    "duration": 2170,
    "start_time": "2023-03-21T09:21:57.813Z"
   },
   {
    "duration": 2020,
    "start_time": "2023-03-21T09:22:55.249Z"
   },
   {
    "duration": 8,
    "start_time": "2023-03-21T09:22:57.279Z"
   },
   {
    "duration": 2332,
    "start_time": "2023-03-21T09:22:57.289Z"
   },
   {
    "duration": 32,
    "start_time": "2023-03-21T09:22:59.624Z"
   },
   {
    "duration": 3204,
    "start_time": "2023-03-21T09:23:05.938Z"
   },
   {
    "duration": 397,
    "start_time": "2023-03-21T09:32:43.595Z"
   },
   {
    "duration": 393,
    "start_time": "2023-03-21T09:32:51.565Z"
   },
   {
    "duration": 51,
    "start_time": "2023-03-21T09:33:08.236Z"
   },
   {
    "duration": 65,
    "start_time": "2023-03-21T09:33:17.117Z"
   },
   {
    "duration": 26,
    "start_time": "2023-03-21T09:33:40.636Z"
   },
   {
    "duration": 2317,
    "start_time": "2023-03-21T09:34:11.261Z"
   },
   {
    "duration": 106535,
    "start_time": "2023-03-21T09:35:42.474Z"
   },
   {
    "duration": 140,
    "start_time": "2023-03-21T09:37:54.043Z"
   },
   {
    "duration": 56661,
    "start_time": "2023-03-21T09:40:39.254Z"
   },
   {
    "duration": 107341,
    "start_time": "2023-03-21T09:41:44.992Z"
   },
   {
    "duration": 13,
    "start_time": "2023-03-21T09:48:13.919Z"
   },
   {
    "duration": 2224,
    "start_time": "2023-03-21T09:48:46.119Z"
   },
   {
    "duration": 5735,
    "start_time": "2023-03-21T09:49:45.744Z"
   },
   {
    "duration": 11,
    "start_time": "2023-03-21T09:50:07.378Z"
   },
   {
    "duration": 1769,
    "start_time": "2023-03-21T09:50:47.083Z"
   },
   {
    "duration": 9,
    "start_time": "2023-03-21T09:50:52.820Z"
   },
   {
    "duration": 1751,
    "start_time": "2023-03-21T09:57:01.825Z"
   },
   {
    "duration": 2330,
    "start_time": "2023-03-21T09:57:38.214Z"
   },
   {
    "duration": 5,
    "start_time": "2023-03-21T09:57:40.547Z"
   },
   {
    "duration": 2344,
    "start_time": "2023-03-21T09:57:40.603Z"
   },
   {
    "duration": 3713,
    "start_time": "2023-03-21T09:57:46.560Z"
   },
   {
    "duration": 1845,
    "start_time": "2023-03-21T09:58:08.856Z"
   },
   {
    "duration": 3019,
    "start_time": "2023-03-21T09:58:23.770Z"
   },
   {
    "duration": 5,
    "start_time": "2023-03-21T09:58:26.792Z"
   },
   {
    "duration": 2735,
    "start_time": "2023-03-21T09:58:26.799Z"
   },
   {
    "duration": 4106,
    "start_time": "2023-03-21T09:58:29.537Z"
   },
   {
    "duration": 6,
    "start_time": "2023-03-21T09:59:48.394Z"
   },
   {
    "duration": 7568,
    "start_time": "2023-03-21T10:01:19.557Z"
   },
   {
    "duration": 4,
    "start_time": "2023-03-21T10:01:27.127Z"
   },
   {
    "duration": 2388,
    "start_time": "2023-03-21T10:01:27.133Z"
   },
   {
    "duration": 3734,
    "start_time": "2023-03-21T10:01:29.524Z"
   },
   {
    "duration": 70,
    "start_time": "2023-03-21T10:04:13.744Z"
   },
   {
    "duration": 11,
    "start_time": "2023-03-21T10:04:23.713Z"
   },
   {
    "duration": 7,
    "start_time": "2023-03-21T10:04:29.929Z"
   },
   {
    "duration": 4214,
    "start_time": "2023-03-21T10:04:32.997Z"
   },
   {
    "duration": 5,
    "start_time": "2023-03-21T10:04:37.215Z"
   },
   {
    "duration": 2778,
    "start_time": "2023-03-21T10:04:37.223Z"
   },
   {
    "duration": 2511,
    "start_time": "2023-03-21T10:05:10.753Z"
   },
   {
    "duration": 4784,
    "start_time": "2023-03-21T10:06:13.999Z"
   },
   {
    "duration": 6,
    "start_time": "2023-03-21T10:06:18.790Z"
   },
   {
    "duration": 2750,
    "start_time": "2023-03-21T10:06:18.798Z"
   },
   {
    "duration": 3875,
    "start_time": "2023-03-21T10:06:25.217Z"
   },
   {
    "duration": 92,
    "start_time": "2023-03-21T10:07:31.241Z"
   },
   {
    "duration": 3670,
    "start_time": "2023-03-21T10:07:46.001Z"
   },
   {
    "duration": 13,
    "start_time": "2023-03-21T10:07:49.688Z"
   },
   {
    "duration": 2558,
    "start_time": "2023-03-21T10:07:49.706Z"
   },
   {
    "duration": 4271,
    "start_time": "2023-03-21T10:07:52.267Z"
   },
   {
    "duration": 3591,
    "start_time": "2023-03-21T10:13:03.720Z"
   },
   {
    "duration": 4,
    "start_time": "2023-03-21T10:13:07.314Z"
   },
   {
    "duration": 2490,
    "start_time": "2023-03-21T10:13:07.320Z"
   },
   {
    "duration": 2482,
    "start_time": "2023-03-21T10:13:15.394Z"
   },
   {
    "duration": 3510,
    "start_time": "2023-03-21T10:13:46.790Z"
   },
   {
    "duration": 4,
    "start_time": "2023-03-21T10:13:50.304Z"
   },
   {
    "duration": 2442,
    "start_time": "2023-03-21T10:13:50.311Z"
   },
   {
    "duration": 4026,
    "start_time": "2023-03-21T10:13:52.755Z"
   },
   {
    "duration": 75,
    "start_time": "2023-03-21T10:18:46.836Z"
   },
   {
    "duration": 2258,
    "start_time": "2023-03-21T10:18:57.414Z"
   },
   {
    "duration": 12,
    "start_time": "2023-03-21T10:18:59.686Z"
   },
   {
    "duration": 2454,
    "start_time": "2023-03-21T10:18:59.701Z"
   },
   {
    "duration": 11765,
    "start_time": "2023-03-21T10:19:02.198Z"
   },
   {
    "duration": 2314,
    "start_time": "2023-03-23T06:22:08.486Z"
   },
   {
    "duration": 4,
    "start_time": "2023-03-23T06:22:10.802Z"
   },
   {
    "duration": 2131,
    "start_time": "2023-03-23T06:22:10.808Z"
   },
   {
    "duration": 28,
    "start_time": "2023-03-23T06:22:12.942Z"
   },
   {
    "duration": 3603,
    "start_time": "2023-03-23T06:22:12.972Z"
   },
   {
    "duration": 149,
    "start_time": "2023-03-23T06:22:16.577Z"
   },
   {
    "duration": 0,
    "start_time": "2023-03-23T06:22:16.728Z"
   },
   {
    "duration": 0,
    "start_time": "2023-03-23T06:22:16.729Z"
   },
   {
    "duration": 0,
    "start_time": "2023-03-23T06:22:16.730Z"
   },
   {
    "duration": 0,
    "start_time": "2023-03-23T06:22:16.732Z"
   },
   {
    "duration": 2102,
    "start_time": "2023-03-23T06:26:24.185Z"
   },
   {
    "duration": 4,
    "start_time": "2023-03-23T06:26:26.289Z"
   },
   {
    "duration": 2016,
    "start_time": "2023-03-23T06:26:26.294Z"
   },
   {
    "duration": 32,
    "start_time": "2023-03-23T06:26:28.313Z"
   },
   {
    "duration": 3661,
    "start_time": "2023-03-23T06:26:28.348Z"
   },
   {
    "duration": 138615,
    "start_time": "2023-03-23T06:26:32.011Z"
   },
   {
    "duration": 2,
    "start_time": "2023-03-23T06:28:50.628Z"
   },
   {
    "duration": 157,
    "start_time": "2023-03-23T06:30:19.938Z"
   },
   {
    "duration": 6,
    "start_time": "2023-03-23T06:30:26.958Z"
   },
   {
    "duration": 20,
    "start_time": "2023-03-23T06:30:28.131Z"
   },
   {
    "duration": 4,
    "start_time": "2023-03-23T06:31:01.653Z"
   },
   {
    "duration": 60,
    "start_time": "2023-03-23T06:31:20.075Z"
   },
   {
    "duration": 4,
    "start_time": "2023-03-23T06:31:30.821Z"
   },
   {
    "duration": 3,
    "start_time": "2023-03-23T06:31:33.320Z"
   },
   {
    "duration": 3,
    "start_time": "2023-03-23T06:31:40.144Z"
   },
   {
    "duration": 4,
    "start_time": "2023-03-23T06:31:41.043Z"
   },
   {
    "duration": 2207,
    "start_time": "2023-03-23T06:32:22.316Z"
   },
   {
    "duration": 13,
    "start_time": "2023-03-23T06:33:13.250Z"
   },
   {
    "duration": 15,
    "start_time": "2023-03-23T06:33:26.746Z"
   },
   {
    "duration": 60,
    "start_time": "2023-03-23T08:14:27.469Z"
   },
   {
    "duration": 2707,
    "start_time": "2023-03-23T08:14:44.763Z"
   },
   {
    "duration": 6,
    "start_time": "2023-03-23T08:14:47.473Z"
   },
   {
    "duration": 2661,
    "start_time": "2023-03-23T08:14:47.481Z"
   },
   {
    "duration": 26,
    "start_time": "2023-03-23T08:14:50.145Z"
   },
   {
    "duration": 4137,
    "start_time": "2023-03-23T08:14:50.173Z"
   },
   {
    "duration": 168659,
    "start_time": "2023-03-23T08:14:54.318Z"
   },
   {
    "duration": 3,
    "start_time": "2023-03-23T08:17:42.979Z"
   },
   {
    "duration": 197,
    "start_time": "2023-03-23T08:17:42.984Z"
   },
   {
    "duration": 0,
    "start_time": "2023-03-23T08:17:43.184Z"
   },
   {
    "duration": 0,
    "start_time": "2023-03-23T08:17:43.185Z"
   },
   {
    "duration": 2505,
    "start_time": "2023-03-23T08:18:23.650Z"
   },
   {
    "duration": 2147,
    "start_time": "2023-03-23T08:19:16.923Z"
   },
   {
    "duration": 4,
    "start_time": "2023-03-23T08:19:19.072Z"
   },
   {
    "duration": 1902,
    "start_time": "2023-03-23T08:19:19.078Z"
   },
   {
    "duration": 38,
    "start_time": "2023-03-23T08:19:20.982Z"
   },
   {
    "duration": 4,
    "start_time": "2023-03-23T08:19:21.023Z"
   },
   {
    "duration": 3753,
    "start_time": "2023-03-23T08:19:21.029Z"
   },
   {
    "duration": 172630,
    "start_time": "2023-03-23T08:19:24.783Z"
   },
   {
    "duration": 3,
    "start_time": "2023-03-23T08:22:17.415Z"
   },
   {
    "duration": 2713,
    "start_time": "2023-03-23T08:22:17.420Z"
   },
   {
    "duration": 41,
    "start_time": "2023-03-23T08:22:20.135Z"
   },
   {
    "duration": 2220,
    "start_time": "2023-03-23T08:27:08.595Z"
   },
   {
    "duration": 5,
    "start_time": "2023-03-23T08:27:10.818Z"
   },
   {
    "duration": 2281,
    "start_time": "2023-03-23T08:27:10.825Z"
   },
   {
    "duration": 33,
    "start_time": "2023-03-23T08:27:13.118Z"
   },
   {
    "duration": 3770,
    "start_time": "2023-03-23T08:27:13.153Z"
   },
   {
    "duration": 158145,
    "start_time": "2023-03-23T08:27:16.925Z"
   },
   {
    "duration": 3,
    "start_time": "2023-03-23T08:29:55.073Z"
   },
   {
    "duration": 2460,
    "start_time": "2023-03-23T08:29:55.077Z"
   },
   {
    "duration": 46,
    "start_time": "2023-03-23T08:29:57.539Z"
   },
   {
    "duration": 151,
    "start_time": "2023-03-25T07:46:39.752Z"
   },
   {
    "duration": 52,
    "start_time": "2023-03-25T07:46:55.662Z"
   },
   {
    "duration": 3983,
    "start_time": "2023-03-25T07:47:19.358Z"
   },
   {
    "duration": 182,
    "start_time": "2023-03-25T07:59:10.290Z"
   },
   {
    "duration": 29821,
    "start_time": "2023-03-25T07:59:20.031Z"
   },
   {
    "duration": 22,
    "start_time": "2023-03-25T07:59:57.865Z"
   },
   {
    "duration": 6016,
    "start_time": "2023-03-25T08:00:34.047Z"
   },
   {
    "duration": 3270,
    "start_time": "2023-03-25T08:00:50.130Z"
   },
   {
    "duration": 9,
    "start_time": "2023-03-25T08:00:56.250Z"
   },
   {
    "duration": 2209,
    "start_time": "2023-03-25T08:00:57.161Z"
   },
   {
    "duration": 28,
    "start_time": "2023-03-25T08:01:05.532Z"
   },
   {
    "duration": 1533,
    "start_time": "2023-03-25T08:01:27.813Z"
   },
   {
    "duration": 673,
    "start_time": "2023-03-25T08:03:12.830Z"
   },
   {
    "duration": 55803,
    "start_time": "2023-03-25T08:03:19.932Z"
   },
   {
    "duration": 246,
    "start_time": "2023-03-25T08:04:29.266Z"
   },
   {
    "duration": 182,
    "start_time": "2023-03-25T08:04:36.065Z"
   },
   {
    "duration": 975,
    "start_time": "2023-03-25T08:04:43.967Z"
   },
   {
    "duration": 220,
    "start_time": "2023-03-25T08:04:44.945Z"
   },
   {
    "duration": 11,
    "start_time": "2023-03-25T08:04:50.563Z"
   },
   {
    "duration": 4,
    "start_time": "2023-03-25T08:04:52.186Z"
   },
   {
    "duration": 1729,
    "start_time": "2023-03-25T08:04:52.908Z"
   },
   {
    "duration": 619,
    "start_time": "2023-03-25T08:04:55.663Z"
   },
   {
    "duration": 312,
    "start_time": "2023-03-25T08:04:57.185Z"
   },
   {
    "duration": 152,
    "start_time": "2023-03-25T08:05:03.499Z"
   },
   {
    "duration": 23588,
    "start_time": "2023-03-25T08:05:15.910Z"
   },
   {
    "duration": 6304,
    "start_time": "2023-03-25T08:05:39.501Z"
   },
   {
    "duration": 8,
    "start_time": "2023-03-25T08:05:45.807Z"
   },
   {
    "duration": 1821,
    "start_time": "2023-03-25T08:05:45.817Z"
   },
   {
    "duration": 703,
    "start_time": "2023-03-25T08:05:47.642Z"
   },
   {
    "duration": 4711915,
    "start_time": "2023-03-25T08:05:48.350Z"
   },
   {
    "duration": 7,
    "start_time": "2023-03-25T09:24:20.267Z"
   },
   {
    "duration": 3200,
    "start_time": "2023-03-25T09:24:20.277Z"
   },
   {
    "duration": 40,
    "start_time": "2023-03-25T09:24:23.479Z"
   },
   {
    "duration": 120,
    "start_time": "2023-03-25T09:24:23.537Z"
   },
   {
    "duration": 129,
    "start_time": "2023-03-25T09:24:23.659Z"
   },
   {
    "duration": 35770,
    "start_time": "2023-03-25T09:24:23.790Z"
   },
   {
    "duration": 588155,
    "start_time": "2023-03-25T09:24:59.562Z"
   },
   {
    "duration": 21333,
    "start_time": "2023-03-25T09:37:52.708Z"
   },
   {
    "duration": 5618,
    "start_time": "2023-03-25T09:38:14.045Z"
   },
   {
    "duration": 8,
    "start_time": "2023-03-25T09:38:19.665Z"
   },
   {
    "duration": 1659,
    "start_time": "2023-03-25T09:38:19.677Z"
   },
   {
    "duration": 630,
    "start_time": "2023-03-25T09:38:21.339Z"
   },
   {
    "duration": 3302422,
    "start_time": "2023-03-25T09:38:21.972Z"
   },
   {
    "duration": 5,
    "start_time": "2023-03-25T10:33:24.396Z"
   },
   {
    "duration": 2319,
    "start_time": "2023-03-25T10:33:24.403Z"
   },
   {
    "duration": 60,
    "start_time": "2023-03-25T10:33:26.724Z"
   },
   {
    "duration": 117,
    "start_time": "2023-03-25T10:33:26.787Z"
   },
   {
    "duration": 155,
    "start_time": "2023-03-25T10:33:26.907Z"
   },
   {
    "duration": 20558,
    "start_time": "2023-03-25T10:33:27.065Z"
   },
   {
    "duration": 520445,
    "start_time": "2023-03-25T10:33:47.625Z"
   },
   {
    "duration": 2350476,
    "start_time": "2023-03-25T10:42:28.076Z"
   },
   {
    "duration": 55938,
    "start_time": "2023-03-25T11:21:38.554Z"
   }
  ],
  "kernelspec": {
   "display_name": "Python 3 (ipykernel)",
   "language": "python",
   "name": "python3"
  },
  "language_info": {
   "codemirror_mode": {
    "name": "ipython",
    "version": 3
   },
   "file_extension": ".py",
   "mimetype": "text/x-python",
   "name": "python",
   "nbconvert_exporter": "python",
   "pygments_lexer": "ipython3",
   "version": "3.9.7"
  },
  "toc": {
   "base_numbering": 1,
   "nav_menu": {},
   "number_sections": true,
   "sideBar": true,
   "skip_h1_title": true,
   "title_cell": "Содержание",
   "title_sidebar": "Contents",
   "toc_cell": false,
   "toc_position": {
    "height": "388px",
    "left": "55px",
    "top": "170px",
    "width": "302.391px"
   },
   "toc_section_display": true,
   "toc_window_display": true
  },
  "varInspector": {
   "cols": {
    "lenName": 16,
    "lenType": 16,
    "lenVar": 40
   },
   "kernels_config": {
    "python": {
     "delete_cmd_postfix": "",
     "delete_cmd_prefix": "del ",
     "library": "var_list.py",
     "varRefreshCmd": "print(var_dic_list())"
    },
    "r": {
     "delete_cmd_postfix": ") ",
     "delete_cmd_prefix": "rm(",
     "library": "var_list.r",
     "varRefreshCmd": "cat(var_dic_list()) "
    }
   },
   "types_to_exclude": [
    "module",
    "function",
    "builtin_function_or_method",
    "instance",
    "_Feature"
   ],
   "window_display": false
  }
 },
 "nbformat": 4,
 "nbformat_minor": 2
}
